{
 "cells": [
  {
   "cell_type": "markdown",
   "id": "d73cdb2b",
   "metadata": {},
   "source": [
    "<center>\n",
    "    <img src=\"https://cf-courses-data.s3.us.cloud-object-storage.appdomain.cloud/IBMDeveloperSkillsNetwork-DS0105EN-SkillsNetwork/labs/Module2/images/SN_web_lightmode.png\" width=\"300\" alt=\"cognitiveclass.ai logo\">\n",
    "</center>"
   ]
  },
  {
   "cell_type": "markdown",
   "id": "e721f3a2",
   "metadata": {},
   "source": [
    "# Data Science Tools and Ecosystem"
   ]
  },
  {
   "cell_type": "markdown",
   "id": "d3d7656f",
   "metadata": {},
   "source": [
    "In this notebook, Data Science Tools and Ecosystem are summarized."
   ]
  },
  {
   "cell_type": "markdown",
   "id": "8e4b0347",
   "metadata": {},
   "source": [
    "**Objectives:**\n",
    "* List popular languages for Data Science\n",
    "* List commonly used libraries used by Data Scientists\n",
    "* Creating tables in Jupyter Notebook\n",
    "* Show examples of arithmetic expressionsin Python"
   ]
  },
  {
   "cell_type": "markdown",
   "id": "4b0fdc2a",
   "metadata": {},
   "source": [
    "Some of the popular languages that Data Scientists use are: \n",
    "\n",
    "1. R\n",
    "2. Python\n",
    "3. SQL\n",
    "4. Julia\n",
    "5. MATLAB\n",
    "6. Scala\n"
   ]
  },
  {
   "cell_type": "markdown",
   "id": "ba620642",
   "metadata": {},
   "source": [
    "Some of the commonly used libraries used by Data Scientists include:\n",
    "\n",
    "1. Python\n",
    "    * NumPy: for numerical computing in Python.\n",
    "    * pandas: for data manipulation and analysis.\n",
    "    * Matplotlib: for data visualization.\n",
    "    * Scikit-learn: for machine learning and data mining.\n",
    "    * TensorFlow: for machine learning and deep learning.\n",
    "    \n",
    "2. R\n",
    "    * dplyr: for data manipulation.\n",
    "    * ggplot2: for data visualization.\n",
    "    * caret: for machine learning and predictive modeling.\n",
    "    * tidyr: for data cleaning and tidying.\n",
    "    * data.table: for data manipulation and analysis.\n",
    "    \n",
    "3. SQL\n",
    "    * MySQL: open-source relational database management system.\n",
    "    * PostgreSQL: powerful and open-source relational database system.\n",
    "    * SQLite: lightweight and self-contained database system that can be embedded in applications.\n"
   ]
  },
  {
   "cell_type": "markdown",
   "id": "57035370",
   "metadata": {},
   "source": [
    "| Data Science Tools |\n",
    "| :-: |\n",
    "| Jupyter Notebook |\n",
    "| RStudio |\n",
    "| Anaconda |"
   ]
  },
  {
   "cell_type": "markdown",
   "id": "057ee58a",
   "metadata": {},
   "source": [
    "### Below are a few examples of evaluating arithmetic expressions in Python"
   ]
  },
  {
   "cell_type": "code",
   "execution_count": 22,
   "id": "61a0a9b8",
   "metadata": {},
   "outputs": [
    {
     "name": "stdout",
     "output_type": "stream",
     "text": [
      "The result of the simple arithmetic expression (3*4)+5 is equal to 17\n"
     ]
    }
   ],
   "source": [
    "# This is a simple arithmetic expression to only multiply then add integers\n",
    "\n",
    "print(\"The result of the simple arithmetic expression (3*4)+5 is equal to \" + str((3*4)+5))"
   ]
  },
  {
   "cell_type": "code",
   "execution_count": 23,
   "id": "7347791d",
   "metadata": {},
   "outputs": [
    {
     "name": "stdout",
     "output_type": "stream",
     "text": [
      "The result of converting 200 minutes into hours is: 3.33\n"
     ]
    }
   ],
   "source": [
    "# This will convert 200 minutes to hour by dividing by 60\n",
    "\n",
    "def minutestohours(minutes):\n",
    "    return minutes/60\n",
    "\n",
    "minutes = 200\n",
    "hours = minutestohours(minutes)\n",
    "\n",
    "print(\"The result of converting \" + str(minutes) + \" minutes into hours is: \" + str(round(hours,2)))"
   ]
  },
  {
   "cell_type": "markdown",
   "id": "0e9a6804",
   "metadata": {},
   "source": [
    "## Author\n",
    "Kevin Badia\n",
    "* https://github.com/KevinBadia\n",
    "* https://www.linkedin.com/in/kevinbadia/\n",
    "    "
   ]
  }
 ],
 "metadata": {
  "kernelspec": {
   "display_name": "Python 3 (ipykernel)",
   "language": "python",
   "name": "python3"
  },
  "language_info": {
   "codemirror_mode": {
    "name": "ipython",
    "version": 3
   },
   "file_extension": ".py",
   "mimetype": "text/x-python",
   "name": "python",
   "nbconvert_exporter": "python",
   "pygments_lexer": "ipython3",
   "version": "3.11.1"
  }
 },
 "nbformat": 4,
 "nbformat_minor": 5
}
